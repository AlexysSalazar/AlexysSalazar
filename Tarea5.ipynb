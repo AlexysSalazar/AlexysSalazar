{
  "nbformat": 4,
  "nbformat_minor": 0,
  "metadata": {
    "colab": {
      "provenance": []
    },
    "kernelspec": {
      "name": "python3",
      "display_name": "Python 3"
    },
    "language_info": {
      "name": "python"
    }
  },
  "cells": [
    {
      "cell_type": "code",
      "execution_count": 5,
      "metadata": {
        "colab": {
          "base_uri": "https://localhost:8080/"
        },
        "id": "W6tGJkfdxf-9",
        "outputId": "dd1b68d5-a68b-4b7f-8f5a-e9f0cde07c97"
      },
      "outputs": [
        {
          "output_type": "stream",
          "name": "stdout",
          "text": [
            "del arreglo [0, 1, -5, 1, 21, 351, 321, 15, 0] el indice el menor es: <function menor at 0x7b661ce4ecb0>\n"
          ]
        }
      ],
      "source": [
        "def menor(arreglo):\n",
        "    menor=arreglo[0]\n",
        "\n",
        "    for elemento in arreglo:\n",
        "        if elemento < menor:\n",
        "            menor = elemento\n",
        "    menorIndice= arreglo.index(menor)\n",
        "    return menorIndice\n",
        "arreglo= [0,1,-5,1,21,351,321,15,0]\n",
        "print(f\"del arreglo {arreglo} el indice el menor es: {menor}\")"
      ]
    }
  ]
}